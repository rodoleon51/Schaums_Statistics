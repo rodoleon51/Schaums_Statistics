{
 "cells": [
  {
   "cell_type": "code",
   "execution_count": 1,
   "id": "4ab77970-d89b-4e04-886e-ad489a3de8a7",
   "metadata": {
    "tags": []
   },
   "outputs": [],
   "source": [
    "# Python code to demonstrate the working of log(a,Base)\n",
    "import math"
   ]
  },
  {
   "cell_type": "code",
   "execution_count": 2,
   "id": "a2e4a749-60db-48e5-82b4-2e417bd6a8da",
   "metadata": {
    "tags": []
   },
   "outputs": [
    {
     "name": "stdout",
     "output_type": "stream",
     "text": [
      "3.0\n",
      "2.0\n",
      "2.9999999999999996\n"
     ]
    }
   ],
   "source": [
    "# Example 31.\n",
    "print(math.log(8, 2))\n",
    "print(math.log(25, 5))\n",
    "print(math.log(1000, 10))"
   ]
  },
  {
   "cell_type": "code",
   "execution_count": 3,
   "id": "e91112de-024c-454b-8a03-50cbadad1980",
   "metadata": {
    "tags": []
   },
   "outputs": [
    {
     "name": "stdout",
     "output_type": "stream",
     "text": [
      "[0.0, 0.6931471805599453, 1.0986122886681098, 1.3862943611198906, 1.6094379124341003]\n"
     ]
    }
   ],
   "source": [
    "# Example 32a.\n",
    "logs = []\n",
    "for n in range(1,6):\n",
    "    logs.append(math.log(n))\n",
    "print(logs)    "
   ]
  },
  {
   "cell_type": "code",
   "execution_count": 4,
   "id": "174c04a7-db37-4ac2-908b-f662cc5877ba",
   "metadata": {
    "tags": []
   },
   "outputs": [
    {
     "name": "stdout",
     "output_type": "stream",
     "text": [
      "Natural log of 1 is 0.0\n",
      "Natural log of 2 is 0.6931471805599453\n",
      "Natural log of 3 is 1.0986122886681098\n",
      "Natural log of 4 is 1.3862943611198906\n",
      "Natural log of 5 is 1.6094379124341003\n"
     ]
    }
   ],
   "source": [
    "# Example 32b.\n",
    "for n in range(1,6):\n",
    "    print(f\"Natural log of {n} is {math.log(n)}\")      "
   ]
  },
  {
   "cell_type": "code",
   "execution_count": 5,
   "id": "f26c582f-ed5c-49dc-8c54-1592ecd4f4e0",
   "metadata": {
    "tags": []
   },
   "outputs": [
    {
     "name": "stdout",
     "output_type": "stream",
     "text": [
      "The value of 0.0 is 1.\n",
      "The value of 0.6931471805599453 is 2.\n",
      "The value of 1.0986122886681098 is 3.\n",
      "The value of 1.3862943611198906 is 4.\n",
      "The value of 1.6094379124341003 is 5.\n"
     ]
    }
   ],
   "source": [
    "# Example 33.\n",
    "for n in range(1, 6):\n",
    "    print(f\"The value of {math.log(n)} is {round(math.exp(math.log(n)))}.\")"
   ]
  },
  {
   "cell_type": "code",
   "execution_count": 6,
   "id": "60a341ba-5063-4be7-92ce-a253478bb465",
   "metadata": {
    "tags": []
   },
   "outputs": [
    {
     "name": "stdout",
     "output_type": "stream",
     "text": [
      "For x = 1 e = 2.0\n",
      "For x = 10 e = 2.5937424601000023\n",
      "For x = 100 e = 2.7048138294215285\n",
      "For x = 1000 e = 2.7169239322355936\n",
      "For x = 10000 e = 2.7181459268249255\n",
      "For x = 100000 e = 2.7182682371922975\n",
      "For x = 1000000 e = 2.7182804690957534\n"
     ]
    }
   ],
   "source": [
    "# Example 34.\n",
    "base = [1, 10, 100, 1000, 10000, 100000, 1000000]\n",
    "for x in base:\n",
    "    print(f\"For x = {x} e = {math.pow((1 + 1/x), x)}\")"
   ]
  },
  {
   "cell_type": "code",
   "execution_count": 7,
   "id": "1fcb4532-e8d4-4dc3-9cd5-778c4bd19ab1",
   "metadata": {
    "tags": []
   },
   "outputs": [
    {
     "name": "stdout",
     "output_type": "stream",
     "text": [
      "Quarterly\n",
      "Year 1: 1050.95\n",
      "Year 2: 1104.49\n",
      "Year 3: 1160.75\n",
      "Year 4: 1219.89\n",
      "Year 5: 1282.04\n",
      "\n",
      "Continuously\n",
      "Year 1: 1051.27\n",
      "Year 2: 1105.16\n",
      "Year 3: 1161.82\n",
      "Year 4: 1221.39\n",
      "Year 5: 1284.0\n"
     ]
    }
   ],
   "source": [
    "# Example 35.\n",
    "p = 1000\n",
    "r = .05\n",
    "nq = 4\n",
    "print(\"Quarterly\")\n",
    "for t in range(1,6):\n",
    "    print(f\"Year {t}: {round(p*(math.pow((1 + r/nq), nq*t)), 2)}\")\n",
    "\n",
    "nc = 360\n",
    "print(\"\\nContinuously\")\n",
    "for t in range(1,6):\n",
    "    print(f\"Year {t}: {round(p*(math.pow((1 + r/nc), nc*t)), 2)}\")"
   ]
  },
  {
   "cell_type": "code",
   "execution_count": 8,
   "id": "8449e55f-3ae8-4c04-bf13-86e51a443b76",
   "metadata": {
    "tags": []
   },
   "outputs": [
    {
     "data": {
      "text/plain": [
       "<matplotlib.lines.Line2D at 0x1d99dc66e30>"
      ]
     },
     "execution_count": 8,
     "metadata": {},
     "output_type": "execute_result"
    },
    {
     "data": {
      "image/png": "[encoded data removed]",
      "text/plain": [
       "<Figure size 640x480 with 1 Axes>"
      ]
     },
     "metadata": {},
     "output_type": "display_data"
    }
   ],
   "source": [
    "# Problem 1.20\n",
    "import numpy as np\n",
    "import matplotlib.pyplot as plt\n",
    "import seaborn\n",
    "seaborn.set(style='ticks')\n",
    "\n",
    "x_values = [5, 2, -5, 1, 3, -2.5, 0, 4]\n",
    "y_values = [2, 5, 1, -3, -4, -4.8, -2.5, 0]\n",
    "\n",
    "x = np.linspace(0.2,10,100)\n",
    "fig, ax = plt.subplots()\n",
    "ax.scatter(x_values, y_values, s = 10)\n",
    "ax.set_aspect('equal')\n",
    "ax.grid(True, which='both')\n",
    "#seaborn.despine(ax=ax, offset=0) \n",
    "\n",
    "ax.axhline(y=0, color='k')\n",
    "ax.axvline(x=0, color='k')\n"
   ]
  },
  {
   "cell_type": "code",
   "execution_count": 9,
   "id": "cf651642-f005-443b-ad38-95184e2d8aaf",
   "metadata": {
    "tags": []
   },
   "outputs": [
    {
     "data": {
      "text/plain": [
       "<matplotlib.lines.Line2D at 0x1d99db2aa40>"
      ]
     },
     "execution_count": 9,
     "metadata": {},
     "output_type": "execute_result"
    },
    {
     "data": {
      "image/png": "[encoded data removed]",
      "text/plain": [
       "<Figure size 640x480 with 1 Axes>"
      ]
     },
     "metadata": {},
     "output_type": "display_data"
    }
   ],
   "source": [
    "# Problem 1.21\n",
    "x_values = range(-5, 6)\n",
    "y_values = range(-24, 20, 4)\n",
    "\n",
    "x = np.linspace(0.2,10,100)\n",
    "fig, ax = plt.subplots()\n",
    "ax.plot(x_values, y_values)\n",
    "ax.scatter(x_values, y_values, s = 10)\n",
    "ax.set_aspect('.2')\n",
    "ax.grid(True, which='both')\n",
    "\n",
    "ax.axhline(y=0, color='k')\n",
    "ax.axvline(x=0, color='k')"
   ]
  },
  {
   "cell_type": "code",
   "execution_count": null,
   "id": "f65d2aaf-f2b0-4fe6-8202-8fe89d728529",
   "metadata": {},
   "outputs": [],
   "source": []
  }
 ],
 "metadata": {
  "kernelspec": {
   "display_name": "Python 3 (ipykernel)",
   "language": "python",
   "name": "python3"
  },
  "language_info": {
   "codemirror_mode": {
    "name": "ipython",
    "version": 3
   },
   "file_extension": ".py",
   "mimetype": "text/x-python",
   "name": "python",
   "nbconvert_exporter": "python",
   "pygments_lexer": "ipython3",
   "version": "3.10.13"
  }
 },
 "nbformat": 4,
 "nbformat_minor": 5
}
